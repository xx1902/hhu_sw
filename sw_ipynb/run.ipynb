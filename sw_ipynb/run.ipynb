{
 "cells": [
  {
   "cell_type": "markdown",
   "metadata": {},
   "source": [
    "这是第一节课学习的代码\n",
    "* pycharm 创建虚拟环境\n",
    "* 简单的读取数据"
   ]
  },
  {
   "cell_type": "code",
   "execution_count": 1,
   "metadata": {},
   "outputs": [],
   "source": [
    "# -*- coding: utf-8 -*-\n",
    "\"\"\"\n",
    "Version: 1.0\n",
    "Date: 2024-04-11\n",
    "\n",
    "Change log:\n",
    "- V1.0 (2024-04-11): 初始版本\n",
    "\n",
    "This code is released under the GNU General Public License (GPL) version 3.\n",
    "see <http://www.gnu.org/licenses/>.\n",
    "\"\"\"\n",
    "\n",
    "import numpy as np\n",
    "\n",
    "# 加载GR4J模型参数\n",
    "para = np.loadtxt('data/GR4J_Parameter.txt')\n",
    "x1 = para[0]  # x1: 产流水库容量 (mm)\n",
    "x2 = para[1]  # x2: 地下水交换系数 (mm)\n",
    "x3 = para[2]  # x3: 汇流水库容量 (mm)\n",
    "x4 = para[3]  # x4: 单位线汇流时间 (天)\n",
    "\n",
    "# 加载GR4J其他参数\n",
    "other_para = np.loadtxt('data/others.txt')\n",
    "area = other_para[0]  # 流域面积(km2)\n",
    "upperTankRatio = other_para[1]  # 产流水库初始填充率 S0/x1\n",
    "lowerTankRatio = other_para[2]  # 汇流水库初始填充率 R0/x3\n",
    "\n",
    "# 加载数据文件\n",
    "data = np.loadtxt('data/inputData.txt')\n",
    "P = data[:, 0]  # 第二列: 日降雨量(mm)\n",
    "E = data[:, 1]  # 第三列: 蒸散发量(mm)\n",
    "Qobs = data[:, 2]  # 第四列: 流域出口观测流量(ML/day)\n",
    "\n",
    "Qobs_mm = Qobs  # 将径流量单位从ML/day转化为mm/s"
   ]
  }
 ],
 "metadata": {
  "kernelspec": {
   "display_name": "sw",
   "language": "python",
   "name": "python3"
  },
  "language_info": {
   "codemirror_mode": {
    "name": "ipython",
    "version": 3
   },
   "file_extension": ".py",
   "mimetype": "text/x-python",
   "name": "python",
   "nbconvert_exporter": "python",
   "pygments_lexer": "ipython3",
   "version": "3.12.0"
  }
 },
 "nbformat": 4,
 "nbformat_minor": 2
}
