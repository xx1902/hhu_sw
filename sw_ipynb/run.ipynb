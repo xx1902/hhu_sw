{
 "cells": [
  {
   "cell_type": "markdown",
   "metadata": {},
   "source": [
    "### 这是第一节课学习的代码\n",
    "* pycharm 创建虚拟环境\n",
    "* 简单的读取数据"
   ]
  },
  {
   "cell_type": "code",
   "execution_count": 2,
   "metadata": {},
   "outputs": [],
   "source": [
    "# -*- coding: utf-8 -*-\n",
    "\"\"\"\n",
    "Version: 1.0\n",
    "Date: 2024-04-11\n",
    "\n",
    "Change log:\n",
    "- V1.0 (2024-04-11): 初始版本\n",
    "\n",
    "This code is released under the GNU General Public License (GPL) version 3.\n",
    "see <http://www.gnu.org/licenses/>.\n",
    "\"\"\"\n",
    "\n",
    "import numpy as np\n",
    "\n",
    "# 加载GR4J模型参数\n",
    "para = np.loadtxt('data/GR4J_Parameter.txt')\n",
    "x1 = para[0]  # x1: 产流水库容量 (mm)\n",
    "x2 = para[1]  # x2: 地下水交换系数 (mm)\n",
    "x3 = para[2]  # x3: 汇流水库容量 (mm)\n",
    "x4 = para[3]  # x4: 单位线汇流时间 (天)\n",
    "\n",
    "# 加载GR4J其他参数\n",
    "other_para = np.loadtxt('data/others.txt')\n",
    "area = other_para[0]  # 流域面积(km2)\n",
    "upperTankRatio = other_para[1]  # 产流水库初始填充率 S0/x1\n",
    "lowerTankRatio = other_para[2]  # 汇流水库初始填充率 R0/x3\n",
    "\n",
    "# 加载数据文件\n",
    "data = np.loadtxt('data/inputData.txt')\n",
    "P = data[:, 0]  # 第二列: 日降雨量(mm)\n",
    "E = data[:, 1]  # 第三列: 蒸散发量(mm)\n",
    "Qobs = data[:, 2]  # 第四列: 流域出口观测流量(ML/day)\n",
    "\n",
    "# Qobs_mm = Qobs  # 将径流量单位从ML/day转化为mm/s\n"
   ]
  },
  {
   "cell_type": "markdown",
   "metadata": {},
   "source": [
    "地面径流\n",
    "* 等流时线法\n",
    "* 单位线法\n",
    "地下径流\n",
    "* 线性水库法\n",
    "### 这是第二节课学习的代码\n",
    "* 模块1  计算Pn和En\n",
    "* 模块2  根据En Pn分析产流水库的水量(S)变化"
   ]
  },
  {
   "cell_type": "code",
   "execution_count": 27,
   "metadata": {},
   "outputs": [
    {
     "name": "stdout",
     "output_type": "stream",
     "text": [
      "[0.        0.1767767 0.8232233 0.        0.        0.        0.\n",
      " 0.        0.        0.       ]\n"
     ]
    }
   ],
   "source": [
    "nStep = data.shape[0]   # 观测数据的长度\n",
    "\n",
    "Pn = np.zeros(nStep)    # 存储有效降雨量\n",
    "En = np.zeros(nStep)    # 存储剩余的蒸发能力\n",
    "\n",
    "# 根据输入参数x4计算S曲线以及单位线，这里假设单位线长度UH1为10，UH2为20; 即x4取值不应该大于10\n",
    "maxDayDelay = 10\n",
    "# 定义几个数组以存储SH1, UH1, SH2, UH2\n",
    "SH1 = np.zeros(maxDayDelay)             # 定义第1条单位线的累积曲线\n",
    "UH1 = np.zeros(maxDayDelay)             # 定义第1条单位线\n",
    "SH2 = np.zeros(2 * maxDayDelay)         # 定义第2条单位线的累积曲线\n",
    "UH2 = np.zeros(2 * maxDayDelay)         # 定义第2条单位线\n",
    "\n",
    "\n",
    "# 计算SH1以及SH2，由于i是从0开始的，为避免第一个数值为0，我们在函数钟使用i+1\n",
    "for i in range(maxDayDelay):\n",
    "    SH1[i] = SH1_CURVE(i, x4)\n",
    "\n",
    "for i in range(2 * maxDayDelay):\n",
    "    SH2[i] = SH2_CURVE(i, x4)\n",
    "\n",
    "# 逐日计算En及Pn值，En及Pn为GR4J模型的输入，可以提前计算出来\n",
    "for i in range(nStep):\n",
    "    if P[i] >= E[i]: # 若当日降雨量大于等于当日蒸发量，净降雨量Pn = P - E，净蒸发能力En = 0\n",
    "        Pn[i] = P[i] - E[i]\n",
    "        En[i] = 0\n",
    "    else: # 若当日降雨量小于当日蒸发量，净降雨量Pn = 0，净蒸发能力En = E - P\n",
    "        Pn[i] = 0\n",
    "        En[i] = E[i] - P[i]\n",
    "\n",
    "# 计算UH1以及UH2\n",
    "for i in range(maxDayDelay):\n",
    "    if i == 0:\n",
    "        UH1[i] = SH1[i]\n",
    "    else:\n",
    "        UH1[i] = SH1[i] - SH1[i - 1]\n",
    "\n",
    "for i in range(2 * maxDayDelay):\n",
    "    if i == 0:\n",
    "        UH2[i] = SH2[i]\n",
    "    else:\n",
    "        UH2[i] = SH2[i] - SH2[i - 1]\n",
    "\n",
    "print(UH1)\n",
    "# Q = simulate_gr4j(nStep, x1, x2, x3, x4, upperTankRatio, lowerTankRatio, maxDayDelay, UH1, UH2, Pn, En)"
   ]
  },
  {
   "cell_type": "code",
   "execution_count": 4,
   "metadata": {},
   "outputs": [],
   "source": [
    "# 模块3  2\n",
    "# mytools.py文件\n",
    "# import mytools import *\n",
    "def SH1_CURVE(t, x4):\n",
    "    if t <= 0.0:\n",
    "        sh = 0.0\n",
    "    elif t < x4:\n",
    "        sh = (t / x4) ** 2.5\n",
    "    elif t >= x4:\n",
    "        sh = 1.0\n",
    "    return sh\n",
    "\n",
    "def SH2_CURVE(t, x4):\n",
    "    if t <= 0.0:\n",
    "        sh = 0.0\n",
    "    elif t <= x4:\n",
    "        sh = 0.5 * (t / x4) ** 2.5\n",
    "    elif t < 2 * x4:\n",
    "        sh = 1 - 0.5 * (2 - t / x4) ** 2.5\n",
    "    elif t >= 2 * x4:\n",
    "        sh = 1.0\n",
    "    return sh\n"
   ]
  }
 ],
 "metadata": {
  "kernelspec": {
   "display_name": "sw",
   "language": "python",
   "name": "python3"
  },
  "language_info": {
   "codemirror_mode": {
    "name": "ipython",
    "version": 3
   },
   "file_extension": ".py",
   "mimetype": "text/x-python",
   "name": "python",
   "nbconvert_exporter": "python",
   "pygments_lexer": "ipython3",
   "version": "3.12.0"
  }
 },
 "nbformat": 4,
 "nbformat_minor": 2
}
