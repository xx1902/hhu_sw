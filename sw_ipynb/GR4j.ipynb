{
 "cells": [
  {
   "cell_type": "markdown",
   "metadata": {},
   "source": [
    "线性拟合 <br>\n",
    "$y=ax+b$ <br>\n",
    "水文模型 -> 复杂，分线性拟合\n",
    "\n",
    "模型分类\n",
    "* 物理模型\n",
    "* 仿真模型\n",
    "\n",
    "构建基础分类\n",
    "* 物理模型\n",
    "* 概念性模型\n",
    "  * 新安江模型 河海\n",
    "* 黑箱子模型（经验模型）\n",
    "* 集总式模型\n",
    "* 分布式模型\n",
    "\n",
    "模型的精度评估\n",
    "* 纳什效率系数 -> 接近1"
   ]
  },
  {
   "cell_type": "markdown",
   "metadata": {},
   "source": [
    "#### GR4j\n",
    "* 集总式模型\n",
    "* 概念性降雨径流模型\n",
    "\n",
    "模型输入：\n",
    "* 逐日蒸发量\n",
    "* 逐日降雨量\n",
    "\n",
    "模型输出：流域\n",
    "\n",
    "四个参数 : \n",
    "* x1\n",
    "* x2\n",
    "* x3\n",
    "* x4  单位线的时间参数\n",
    "\n",
    "版本控制\n",
    "\n",
    "模块1\n",
    "* En 有效蒸发\n",
    "* Pn 有效降雨\n",
    "  * 当日降雨量大于蒸发量 净降雨量Pn=P-E,En=0\n",
    "  * 当日降雨量小于蒸发量 净蒸发能力En=E-P,Pn=0\n",
    "\n",
    "模块2\n",
    "Pn\n",
    "* 补充上层水库水量 Ps\n",
    "* 土壤中的水量 Pn - Ps\n",
    "* Pr = Perc + Pn - Ps\n",
    "  * 快速流UH1 90% * Pr\n",
    "  * 慢速流UH2 10% * Pr\n",
    "\n",
    "模块3\n",
    "* 地下水交换量计算\n",
    "* 利用单位线计算\n",
    "* 汇流计算\n",
    "* 总径流计算\n",
    "\n",
    "参数优化\n",
    "* PSO，模拟退火算法寻优\n",
    "* 暴力模拟\n",
    "\n",
    "生成虚拟环境 \n",
    "* 导出虚拟环境以及依赖"
   ]
  },
  {
   "cell_type": "code",
   "execution_count": 1,
   "metadata": {},
   "outputs": [
    {
     "name": "stdout",
     "output_type": "stream",
     "text": [
      "你好\n"
     ]
    }
   ],
   "source": [
    "print(\"你好\")"
   ]
  }
 ],
 "metadata": {
  "kernelspec": {
   "display_name": "base",
   "language": "python",
   "name": "python3"
  },
  "language_info": {
   "codemirror_mode": {
    "name": "ipython",
    "version": 3
   },
   "file_extension": ".py",
   "mimetype": "text/x-python",
   "name": "python",
   "nbconvert_exporter": "python",
   "pygments_lexer": "ipython3",
   "version": "3.11.4"
  }
 },
 "nbformat": 4,
 "nbformat_minor": 2
}
